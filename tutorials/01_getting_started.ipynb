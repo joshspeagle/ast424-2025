{
 "cells": [
  {
   "cell_type": "markdown",
   "metadata": {},
   "source": [
    "# Tutorial 1: Getting Started with the Multimodal Universe\n",
    "\n",
    "Welcome to your first tutorial! This notebook will help you:\n",
    "- Check your Python environment\n",
    "- Load your first dataset from the Multimodal Universe\n",
    "- Understand the data structure\n",
    "- Make your first visualization\n",
    "- Save data for offline work\n",
    "\n",
    "**Note**: All dataset (previews) are at https://huggingface.co/MultimodalUniverse/datasets\n",
    "\n",
    "See the documentation for examples on how to install/load the `mmu` package, which provides some useful utilities"
   ]
  },
  {
   "cell_type": "markdown",
   "metadata": {},
   "source": [
    "## 1. Environment Check\n",
    "\n",
    "Let's first make sure you have all the required packages:"
   ]
  },
  {
   "cell_type": "code",
   "execution_count": null,
   "metadata": {
    "execution": {
     "iopub.execute_input": "2025-10-07T09:18:10.716803Z",
     "iopub.status.busy": "2025-10-07T09:18:10.716659Z",
     "iopub.status.idle": "2025-10-07T09:18:11.845688Z",
     "shell.execute_reply": "2025-10-07T09:18:11.845178Z"
    }
   },
   "outputs": [
    {
     "name": "stdout",
     "output_type": "stream",
     "text": [
      "Python version: 3.13.5 | packaged by Anaconda, Inc. | (main, Jun 12 2025, 16:17:47) [GCC 11.2.0]\n",
      "NumPy version: 2.2.6\n"
     ]
    },
    {
     "name": "stdout",
     "output_type": "stream",
     "text": [
      "Matplotlib version: 3.10.6\n",
      "Pandas version: 2.3.2\n"
     ]
    },
    {
     "name": "stdout",
     "output_type": "stream",
     "text": [
      "Astropy version: 7.1.0\n"
     ]
    },
    {
     "name": "stdout",
     "output_type": "stream",
     "text": [
      "Datasets version: 4.1.1\n",
      "\n",
      "✅ All packages imported successfully!\n"
     ]
    }
   ],
   "source": [
    "# Check Python version\n",
    "import sys\n",
    "print(f\"Python version: {sys.version}\")\n",
    "\n",
    "# Import required packages\n",
    "import numpy as np\n",
    "print(f\"NumPy version: {np.__version__}\")\n",
    "\n",
    "import matplotlib.pyplot as plt\n",
    "import matplotlib\n",
    "print(f\"Matplotlib version: {matplotlib.__version__}\")\n",
    "\n",
    "import pandas as pd\n",
    "print(f\"Pandas version: {pd.__version__}\")\n",
    "\n",
    "from astropy.coordinates import SkyCoord\n",
    "import astropy.units as u\n",
    "import astropy\n",
    "print(f\"Astropy version: {astropy.__version__}\")\n",
    "\n",
    "# Most importantly, the datasets library\n",
    "from datasets import load_dataset\n",
    "import datasets\n",
    "print(f\"Datasets version: {datasets.__version__}\")\n",
    "\n",
    "import pickle  # For saving data\n",
    "\n",
    "print(\"\\n✅ All packages imported successfully!\")"
   ]
  },
  {
   "cell_type": "markdown",
   "metadata": {},
   "source": [
    "## 2. Your First Dataset Load\n",
    "\n",
    "Let's start with the PLAsTiCC dataset - it's relatively small and loads quickly:"
   ]
  },
  {
   "cell_type": "code",
   "execution_count": null,
   "metadata": {
    "execution": {
     "iopub.execute_input": "2025-10-07T09:18:11.847191Z",
     "iopub.status.busy": "2025-10-07T09:18:11.847019Z",
     "iopub.status.idle": "2025-10-07T09:18:14.513418Z",
     "shell.execute_reply": "2025-10-07T09:18:14.512680Z"
    }
   },
   "outputs": [
    {
     "name": "stdout",
     "output_type": "stream",
     "text": [
      "Loading PLAsTiCC dataset in streaming mode...\n"
     ]
    },
    {
     "name": "stdout",
     "output_type": "stream",
     "text": [
      "✅ Dataset loaded successfully!\n",
      "Dataset type: <class 'datasets.iterable_dataset.IterableDataset'>\n"
     ]
    }
   ],
   "source": [
    "# Load PLAsTiCC dataset in streaming mode\n",
    "# Streaming mode means we don't download the whole dataset at once\n",
    "# See the datasets documentation for more details and examples\n",
    "print(\"Loading PLAsTiCC dataset in streaming mode...\")\n",
    "dataset = load_dataset(\n",
    "    \"MultimodalUniverse/plasticc\",\n",
    "    split=\"train\",\n",
    "    streaming=True\n",
    ")\n",
    "\n",
    "print(\"✅ Dataset loaded successfully!\")\n",
    "print(f\"Dataset type: {type(dataset)}\")"
   ]
  },
  {
   "cell_type": "markdown",
   "metadata": {},
   "source": [
    "## 3. Exploring Data Structure\n",
    "\n",
    "As an example, let's start with PLAsTiCC. That dataset contains simulated light curves for the LSST survey. Let's explore the structure:"
   ]
  },
  {
   "cell_type": "code",
   "execution_count": 3,
   "metadata": {
    "execution": {
     "iopub.execute_input": "2025-10-07T09:18:14.515003Z",
     "iopub.status.busy": "2025-10-07T09:18:14.514766Z",
     "iopub.status.idle": "2025-10-07T09:18:15.608907Z",
     "shell.execute_reply": "2025-10-07T09:18:15.608191Z"
    }
   },
   "outputs": [
    {
     "name": "stdout",
     "output_type": "stream",
     "text": [
      "Available fields in the dataset:\n",
      "----------------------------------------\n",
      "lightcurve           : dict with keys ['band', 'flux', 'flux_err', 'time']\n",
      "hostgal_photoz       : float = 0.7269999980926514\n",
      "hostgal_specz        : float = 0.6809999942779541\n",
      "redshift             : float = 0.6840000152587891\n",
      "obj_type             : str\n",
      "object_id            : str\n"
     ]
    }
   ],
   "source": [
    "# Get the first example\n",
    "example = next(iter(dataset))\n",
    "\n",
    "# See what fields are available\n",
    "print(\"Available fields in the dataset:\")\n",
    "print(\"-\" * 40)\n",
    "for key in example.keys():\n",
    "    value = example[key]\n",
    "    if isinstance(value, dict):\n",
    "        print(f\"{key:20s} : dict with keys {list(value.keys())}\")\n",
    "    elif isinstance(value, np.ndarray):\n",
    "        print(f\"{key:20s} : array with shape {value.shape}\")\n",
    "    elif isinstance(value, (int, float)):\n",
    "        print(f\"{key:20s} : {type(value).__name__} = {value}\")\n",
    "    else:\n",
    "        print(f\"{key:20s} : {type(value).__name__}\")"
   ]
  },
  {
   "cell_type": "code",
   "execution_count": 4,
   "metadata": {
    "execution": {
     "iopub.execute_input": "2025-10-07T09:18:15.610769Z",
     "iopub.status.busy": "2025-10-07T09:18:15.610647Z",
     "iopub.status.idle": "2025-10-07T09:18:15.615020Z",
     "shell.execute_reply": "2025-10-07T09:18:15.614240Z"
    }
   },
   "outputs": [
    {
     "name": "stdout",
     "output_type": "stream",
     "text": [
      "Lightcurve structure:\n",
      "----------------------------------------\n",
      "Object ID: 21846282\n",
      "Object Type: SNIa\n",
      "Redshift: 0.6840\n",
      "Lightcurve keys: ['band', 'flux', 'flux_err', 'time']\n",
      "\n",
      "Number of observations: 756\n",
      "Unique bands: ['Y' 'g' 'i' 'r' 'u' 'z']\n",
      "Time range: 0.0 to 60661.1 days\n"
     ]
    }
   ],
   "source": [
    "# Examine the lightcurve structure\n",
    "print(\"Lightcurve structure:\")\n",
    "print(\"-\" * 40)\n",
    "print(f\"Object ID: {example['object_id']}\")\n",
    "print(f\"Object Type: {example['obj_type']}\")\n",
    "print(f\"Redshift: {example['redshift']:.4f}\")\n",
    "\n",
    "# The lightcurve is stored as a dictionary\n",
    "lightcurve = example['lightcurve']\n",
    "print(f\"Lightcurve keys: {list(lightcurve.keys())}\")\n",
    "\n",
    "# Extract the components\n",
    "times = np.array(lightcurve['time'])\n",
    "bands = np.array(lightcurve['band'])\n",
    "flux = np.array(lightcurve['flux'])\n",
    "flux_err = np.array(lightcurve['flux_err'])\n",
    "\n",
    "print(f\"\\nNumber of observations: {len(times)}\")\n",
    "print(f\"Unique bands: {np.unique(bands)}\")\n",
    "print(f\"Time range: {times.min():.1f} to {times.max():.1f} days\")"
   ]
  },
  {
   "cell_type": "markdown",
   "metadata": {},
   "source": [
    "## 4. Your First Visualization\n",
    "\n",
    "Let's plot the light curve:"
   ]
  },
  {
   "cell_type": "code",
   "execution_count": 5,
   "metadata": {
    "execution": {
     "iopub.execute_input": "2025-10-07T09:18:15.616494Z",
     "iopub.status.busy": "2025-10-07T09:18:15.616401Z",
     "iopub.status.idle": "2025-10-07T09:18:15.726000Z",
     "shell.execute_reply": "2025-10-07T09:18:15.725533Z"
    }
   },
   "outputs": [
    {
     "data": {
      "image/png": "[encoded data removed]",
      "text/plain": [
       "<Figure size 1200x600 with 1 Axes>"
      ]
     },
     "metadata": {},
     "output_type": "display_data"
    }
   ],
   "source": [
    "# Set up the plot\n",
    "fig = plt.figure(figsize=(12, 6))\n",
    "\n",
    "# Define colors for each band\n",
    "band_colors = {'u': 'purple', 'g': 'blue', 'r': 'green',\n",
    "               'i': 'orange', 'z': 'red', 'Y': 'darkred'}\n",
    "\n",
    "# Plot each band separately\n",
    "for band_name in np.unique(bands):\n",
    "    # Get data for this band\n",
    "    mask = bands == band_name\n",
    "    \n",
    "    if band_name in band_colors:\n",
    "        color = band_colors[band_name]\n",
    "    else:\n",
    "        color = 'gray'\n",
    "    \n",
    "    # Plot with error bars\n",
    "    plt.errorbar(times[mask], flux[mask], yerr=flux_err[mask],\n",
    "                fmt='o', label=f'Band {band_name}',\n",
    "                color=color, alpha=0.7, markersize=4)\n",
    "\n",
    "plt.xlabel('Time (days)', fontsize=12)\n",
    "plt.ylabel('Flux', fontsize=12)\n",
    "plt.title(f'PLAsTiCC Light Curve - {example[\"obj_type\"]} (z={example[\"redshift\"]:.3f})',\n",
    "         fontsize=14)\n",
    "plt.legend(loc='best')\n",
    "plt.grid(True, alpha=0.3)\n",
    "plt.tight_layout()\n",
    "plt.show()"
   ]
  },
  {
   "cell_type": "markdown",
   "metadata": {},
   "source": [
    "It is clear that the (0, 0) point is likely a placeholder that we want to remove. This type of checking is useful for finding potential artifacts, bugs, etc. when looking through the datasets."
   ]
  },
  {
   "cell_type": "markdown",
   "metadata": {},
   "source": [
    "## 5. Loading Multiple Examples\n",
    "\n",
    "Let's load several examples and see the variety in the data:"
   ]
  },
  {
   "cell_type": "code",
   "execution_count": null,
   "metadata": {
    "execution": {
     "iopub.execute_input": "2025-10-07T09:18:15.728094Z",
     "iopub.status.busy": "2025-10-07T09:18:15.727843Z",
     "iopub.status.idle": "2025-10-07T09:18:16.770518Z",
     "shell.execute_reply": "2025-10-07T09:18:16.770036Z"
    }
   },
   "outputs": [
    {
     "name": "stdout",
     "output_type": "stream",
     "text": [
      "Loading 10 examples...\n"
     ]
    },
    {
     "name": "stdout",
     "output_type": "stream",
     "text": [
      "  Loaded object 1/10: ID=21846282\n",
      "  Loaded object 2/10: ID=114421739\n",
      "  Loaded object 3/10: ID=30652072\n",
      "  Loaded object 4/10: ID=107732897\n",
      "  Loaded object 5/10: ID=121186562\n",
      "  Loaded object 6/10: ID=10905347\n",
      "  Loaded object 7/10: ID=16775731\n",
      "  Loaded object 8/10: ID=31971611\n",
      "  Loaded object 9/10: ID=50875482\n",
      "  Loaded object 10/10: ID=52437992\n",
      "\n",
      "Summary of loaded objects:\n",
      "   object_id obj_type  redshift  num_observations\n",
      "0   21846282     SNIa     0.684               756\n",
      "1  114421739      AGN     1.975               756\n",
      "2   30652072     SNII     0.455               828\n",
      "3  107732897      TDE     0.054               828\n",
      "4  121186562      AGN     0.616               828\n",
      "5   10905347     SNII     0.433               840\n",
      "6   16775731     SNIa     0.394               840\n",
      "7   31971611     SNII     0.154               840\n",
      "8   50875482    SNIbc     0.177               840\n",
      "9   52437992      AGN     0.318               840\n",
      "\n",
      "Object type distribution:\n",
      "obj_type\n",
      "AGN      3\n",
      "SNII     3\n",
      "SNIa     2\n",
      "TDE      1\n",
      "SNIbc    1\n",
      "Name: count, dtype: int64\n"
     ]
    }
   ],
   "source": [
    "# Load 10 examples\n",
    "examples = []\n",
    "dataset_iter = iter(dataset)\n",
    "\n",
    "print(\"Loading 10 examples...\")\n",
    "for i in range(10):\n",
    "    example = next(dataset_iter)\n",
    "    examples.append({\n",
    "        'object_id': example['object_id'],\n",
    "        'obj_type': example['obj_type'],\n",
    "        'redshift': example['redshift'],\n",
    "        'num_observations': len(example['lightcurve']['time'])\n",
    "    })\n",
    "    print(f\"  Loaded object {i+1}/10: ID={example['object_id']}\")\n",
    "\n",
    "# Convert to DataFrame for easy viewing (with pandas)\n",
    "df = pd.DataFrame(examples)\n",
    "print(\"\\nSummary of loaded objects:\")\n",
    "print(df)\n",
    "\n",
    "# Show statistics\n",
    "print(\"\\nObject type distribution:\")\n",
    "print(df['obj_type'].value_counts())"
   ]
  },
  {
   "cell_type": "markdown",
   "metadata": {},
   "source": [
    "## 6. Loading Without Streaming\n",
    "\n",
    "For development, you might want to download a subset for faster access rather than just one at a time. This is shown below."
   ]
  },
  {
   "cell_type": "code",
   "execution_count": 7,
   "metadata": {
    "execution": {
     "iopub.execute_input": "2025-10-07T09:18:16.772415Z",
     "iopub.status.busy": "2025-10-07T09:18:16.772308Z",
     "iopub.status.idle": "2025-10-07T09:18:17.710718Z",
     "shell.execute_reply": "2025-10-07T09:18:17.710190Z"
    }
   },
   "outputs": [
    {
     "name": "stdout",
     "output_type": "stream",
     "text": [
      "Downloading first 100 examples (this may take a moment)...\n"
     ]
    },
    {
     "name": "stdout",
     "output_type": "stream",
     "text": [
      "✅ Downloaded 100 examples\n",
      "These are now cached locally for fast access\n",
      "\n",
      "First object ID: 21846282\n",
      "Object type: SNIa\n",
      "\n",
      "Object types in subset:\n",
      "SNIa         30\n",
      "SNII         24\n",
      "TDE          15\n",
      "SNIbc         9\n",
      "AGN           6\n",
      "M-dwarf       4\n",
      "SNIa-91bg     4\n",
      "SNIax         3\n",
      "SLSN-I        2\n",
      "KN            2\n",
      "EB            1\n",
      "Name: count, dtype: int64\n"
     ]
    }
   ],
   "source": [
    "# Load first 100 examples (downloads to cache)\n",
    "print(\"Downloading first 100 examples (this may take a moment)...\")\n",
    "dataset_subset = load_dataset(\n",
    "    \"MultimodalUniverse/plasticc\",\n",
    "    split=\"train[:100]\"\n",
    ")\n",
    "\n",
    "print(f\"✅ Downloaded {len(dataset_subset)} examples\")\n",
    "print(\"These are now cached locally for fast access\")\n",
    "\n",
    "# You can now access by index\n",
    "first_example = dataset_subset[0]\n",
    "print(f\"\\nFirst object ID: {first_example['object_id']}\")\n",
    "print(f\"Object type: {first_example['obj_type']}\")\n",
    "\n",
    "# Show some statistics\n",
    "obj_types = [dataset_subset[i]['obj_type'] for i in range(len(dataset_subset))]\n",
    "unique_types = pd.Series(obj_types).value_counts()\n",
    "print(\"\\nObject types in subset:\")\n",
    "print(unique_types)"
   ]
  },
  {
   "cell_type": "markdown",
   "metadata": {},
   "source": [
    "Note that other tutorials will show examples of downloading batches of data locally to your hard drive (saving them for later), which is better when you are trying to work with larger quantities of data."
   ]
  },
  {
   "cell_type": "markdown",
   "metadata": {},
   "source": [
    "## 7. Saving Data for Offline Work\n",
    "\n",
    "Once you download a subset from streaming, you can save them for working without internet:"
   ]
  },
  {
   "cell_type": "code",
   "execution_count": 8,
   "metadata": {
    "execution": {
     "iopub.execute_input": "2025-10-07T09:18:17.712698Z",
     "iopub.status.busy": "2025-10-07T09:18:17.712598Z",
     "iopub.status.idle": "2025-10-07T09:18:17.756604Z",
     "shell.execute_reply": "2025-10-07T09:18:17.756163Z"
    }
   },
   "outputs": [
    {
     "name": "stdout",
     "output_type": "stream",
     "text": [
      "Creating summary DataFrame...\n",
      "✅ Saved 20 objects to plasticc_sample.csv\n",
      "✅ Saved 5 light curves to plasticc_lightcurves.pkl\n"
     ]
    }
   ],
   "source": [
    "# Convert subset to pandas DataFrame\n",
    "print(\"Creating summary DataFrame...\")\n",
    "data_list = []\n",
    "for i in range(min(20, len(dataset_subset))):  # Save first 20\n",
    "    obj = dataset_subset[i]\n",
    "    data_list.append({\n",
    "        'object_id': obj['object_id'],\n",
    "        'obj_type': obj['obj_type'],\n",
    "        'redshift': obj['redshift'],\n",
    "        'hostgal_photoz': obj['hostgal_photoz'],\n",
    "        'num_observations': len(obj['lightcurve']['time'])\n",
    "    })\n",
    "\n",
    "df = pd.DataFrame(data_list)\n",
    "\n",
    "# Save to CSV\n",
    "output_file = 'plasticc_sample.csv'\n",
    "df.to_csv(output_file, index=False)\n",
    "print(f\"✅ Saved {len(df)} objects to {output_file}\")\n",
    "\n",
    "# Save first 5 light curves as pickle (preserves structure)\n",
    "light_curves = []\n",
    "for i in range(min(5, len(dataset_subset))):\n",
    "    lc = dataset_subset[i]['lightcurve']\n",
    "    light_curves.append({\n",
    "        'object_id': dataset_subset[i]['object_id'],\n",
    "        'lightcurve': lc\n",
    "    })\n",
    "\n",
    "with open('plasticc_lightcurves.pkl', 'wb') as f:\n",
    "    pickle.dump(light_curves, f)\n",
    "print(f\"✅ Saved {len(light_curves)} light curves to plasticc_lightcurves.pkl\")"
   ]
  },
  {
   "cell_type": "markdown",
   "metadata": {},
   "source": [
    "## Summary and Next Steps\n",
    "\n",
    "Congratulations! You've successfully:\n",
    "✅ Loaded data from the Multimodal Universe\n",
    "✅ Explored the PLAsTiCC data structure\n",
    "✅ Created your first visualization\n",
    "✅ Learned how to save data locally\n",
    "\n",
    "### Key Takeaways:\n",
    "1. Use `streaming=True` for exploration without downloading everything\n",
    "2. Use `split=\"train[:N]\"` to download specific number of examples\n",
    "3. PLAsTiCC (and many other datasets) use dictionary structure for light curves\n",
    "4. Data can be saved as CSV (metadata) and pickle (full structure)\n",
    "\n",
    "### Next Tutorial:\n",
    "Continue to `02_data_types.ipynb` to explore images, spectra, and catalogs!"
   ]
  }
 ],
 "metadata": {
  "kernelspec": {
   "display_name": "base",
   "language": "python",
   "name": "python3"
  },
  "language_info": {
   "codemirror_mode": {
    "name": "ipython",
    "version": 3
   },
   "file_extension": ".py",
   "mimetype": "text/x-python",
   "name": "python",
   "nbconvert_exporter": "python",
   "pygments_lexer": "ipython3",
   "version": "3.13.5"
  }
 },
 "nbformat": 4,
 "nbformat_minor": 4
}
