{
 "cells": [
  {
   "cell_type": "markdown",
   "metadata": {},
   "source": [
    "# Tutorial 04: Multi-Survey Cross-Matching with HEALPix\n",
    "\n",
    "**Learning Objectives:**\n",
    "- Understand how astronomical surveys organize data spatially using HEALPix\n",
    "- Learn to download and access HEALPix-partitioned data\n",
    "- Perform spatial cross-matching with astropy\n",
    "- Combine data from optical, spectroscopic, and X-ray surveys\n",
    "\n",
    "**Expected runtime:** ~2-3 minutes\n",
    "\n",
    "This tutorial demonstrates how to cross-match sources from multiple astronomical surveys (Gaia, SDSS, and Chandra) by downloading HEALPix-partitioned data and performing spatial matching."
   ]
  },
  {
   "cell_type": "markdown",
   "metadata": {},
   "source": [
    "## Setup and Imports"
   ]
  },
  {
   "cell_type": "code",
   "execution_count": null,
   "metadata": {},
   "outputs": [],
   "source": [
    "import subprocess\n",
    "from pathlib import Path\n",
    "import h5py\n",
    "import numpy as np\n",
    "from astropy.coordinates import SkyCoord\n",
    "import astropy.units as u\n",
    "import pandas as pd\n",
    "import matplotlib.pyplot as plt"
   ]
  },
  {
   "cell_type": "markdown",
   "metadata": {},
   "source": [
    "## Part 1: Understanding HEALPix Spatial Indexing\n",
    "\n",
    "**What is HEALPix?**\n",
    "\n",
    "HEALPix (Hierarchical Equal Area isoLatitude Pixelization) divides the sky into equal-area pixels, making it ideal for large astronomical surveys.\n",
    "\n",
    "**Key Properties:**\n",
    "- Equal-area pixels (important for statistics)\n",
    "- Hierarchical structure (nside = 2^k)\n",
    "- Each pixel has unique integer ID\n",
    "- Used by: Planck, SDSS, Gaia, MultimodalUniverse\n",
    "\n",
    "**For MultimodalUniverse:**\n",
    "- Data organized by HEALPix pixel at nside=32\n",
    "- This creates 12,288 pixels covering the full sky\n",
    "- Each pixel ≈ 13.4 square degrees\n",
    "- Sources in same region share HEALPix ID\n",
    "\n",
    "**Why HEALPix for cross-matching?**\n",
    "- Only need to download overlapping pixels\n",
    "- Fast spatial queries within pixels\n",
    "- Efficient for distributed data storage"
   ]
  },
  {
   "cell_type": "markdown",
   "metadata": {},
   "source": [
    "## Part 2: Selecting a HEALPix Region\n",
    "\n",
    "For this tutorial, we'll use **HEALPix pixel 583** because:\n",
    "- Contains data from multiple surveys\n",
    "- Small enough for quick download\n",
    "- Rich in different source types\n",
    "\n",
    "**Region coverage:**\n",
    "- RA: ~180° (near celestial equator)\n",
    "- Dec: ~0° (galactic plane region)\n",
    "- Area: ~13.4 square degrees"
   ]
  },
  {
   "cell_type": "code",
   "execution_count": null,
   "metadata": {},
   "outputs": [],
   "source": [
    "# Select HEALPix pixel\n",
    "healpix = 583\n",
    "print(f\"Selected HEALPix pixel: {healpix}\")\n",
    "\n",
    "# Create data directory structure\n",
    "print(\"\\nCreating data directory structure...\")\n",
    "Path(\"data/MultimodalUniverse/v1/gaia\").mkdir(parents=True, exist_ok=True)\n",
    "Path(\"data/MultimodalUniverse/v1/sdss\").mkdir(parents=True, exist_ok=True)\n",
    "Path(\"data/MultimodalUniverse/v1/chandra/spectra\").mkdir(parents=True, exist_ok=True)\n",
    "print(\"✅ Directories created\")"
   ]
  },
  {
   "cell_type": "markdown",
   "metadata": {},
   "source": [
    "## Part 3: Downloading Survey Data\n",
    "\n",
    "We'll download data from three surveys:\n",
    "1. **Gaia** - Optical astrometry and photometry (baseline catalog)\n",
    "2. **SDSS** - Optical spectroscopy with redshifts (including all sub-surveys)\n",
    "3. **Chandra** - X-ray source catalog\n",
    "\n",
    "**Data format:**\n",
    "- HDF5 files (.hdf5) - Efficient binary format\n",
    "- Direct column access without loading full file\n",
    "- Standard in astronomy for large datasets"
   ]
  },
  {
   "cell_type": "code",
   "execution_count": null,
   "metadata": {},
   "outputs": [],
   "source": [
    "# Download Gaia data\n",
    "print(\"[1/3] Downloading Gaia data...\")\n",
    "subprocess.run([\n",
    "    \"wget\", \"-r\", \"-np\", \"-nH\", \"--cut-dirs=1\",\n",
    "    \"-R\", \"index.html*\", \"-q\",\n",
    "    f\"https://users.flatironinstitute.org/~polymathic/data/MultimodalUniverse/v1/gaia/gaia/healpix={healpix}/\"\n",
    "], check=True)\n",
    "print(\"  ✅ Gaia data downloaded\")"
   ]
  },
  {
   "cell_type": "code",
   "execution_count": null,
   "metadata": {},
   "outputs": [],
   "source": [
    "# Download SDSS data (all sub-surveys)\n",
    "print(\"[2/3] Downloading SDSS spectroscopic data (all sub-surveys)...\")\n",
    "print(\"     SDSS includes: sdss, boss, eboss, segue1, segue2\")\n",
    "sdss_subsurveys = ['sdss', 'boss', 'eboss', 'segue1', 'segue2']\n",
    "\n",
    "for subsurvey in sdss_subsurveys:\n",
    "    print(f\"     Downloading {subsurvey}...\", end=\" \")\n",
    "    result = subprocess.run([\n",
    "        \"wget\", \"-r\", \"-np\", \"-nH\", \"--cut-dirs=1\",\n",
    "        \"-R\", \"index.html*\", \"-q\",\n",
    "        f\"https://users.flatironinstitute.org/~polymathic/data/MultimodalUniverse/v1/sdss/{subsurvey}/healpix={healpix}/\"\n",
    "    ])\n",
    "    if result.returncode == 0:\n",
    "        print(\"✓\")\n",
    "    else:\n",
    "        print(\"(no data for this HEALPix)\")\n",
    "\n",
    "print(\"  ✅ SDSS data downloaded (all available sub-surveys)\")"
   ]
  },
  {
   "cell_type": "code",
   "execution_count": null,
   "metadata": {},
   "outputs": [],
   "source": [
    "# Download Chandra data\n",
    "print(\"[3/3] Downloading Chandra X-ray data...\")\n",
    "subprocess.run([\n",
    "    \"wget\", \"-r\", \"-np\", \"-nH\", \"--cut-dirs=1\",\n",
    "    \"-R\", \"index.html*\", \"-q\",\n",
    "    f\"https://users.flatironinstitute.org/~polymathic/data/MultimodalUniverse/v1/chandra/spectra/healpix={healpix}/\"\n",
    "], check=True)\n",
    "print(\"  ✅ Chandra data downloaded\")\n",
    "\n",
    "print(\"\\n✅ All survey data downloaded successfully\")"
   ]
  },
  {
   "cell_type": "markdown",
   "metadata": {},
   "source": [
    "## Part 4: Understanding HDF5 File Structure\n",
    "\n",
    "**HDF5 (Hierarchical Data Format) files store:**\n",
    "- Multiple datasets (columns) in one file\n",
    "- Metadata about each dataset\n",
    "- Efficient random access to columns\n",
    "- Compressed data\n",
    "\n",
    "**Advantages:**\n",
    "- Read only needed columns\n",
    "- Fast I/O for large datasets\n",
    "- Self-describing format"
   ]
  },
  {
   "cell_type": "code",
   "execution_count": null,
   "metadata": {},
   "outputs": [],
   "source": [
    "# Define file paths\n",
    "gaia_file = f\"data/MultimodalUniverse/v1/gaia/gaia/healpix={healpix}/001-of-001.hdf5\"\n",
    "chandra_file = f\"data/MultimodalUniverse/v1/chandra/spectra/healpix={healpix}/001-of-001.hdf5\"\n",
    "\n",
    "# Explore Gaia HDF5 structure\n",
    "print(f\"Exploring Gaia HDF5 file structure:\")\n",
    "print(f\"File: {gaia_file}\")\n",
    "with h5py.File(gaia_file, 'r') as f:\n",
    "    print(f\"  Number of datasets (columns): {len(f.keys())}\")\n",
    "    print(f\"  Number of sources: {len(f['ra'][:])}\") \n",
    "    print(f\"\\n  Key columns:\")\n",
    "    key_cols = ['ra', 'dec', 'parallax', 'phot_g_mean_mag', 'source_id']\n",
    "    for col in key_cols:\n",
    "        if col in f.keys():\n",
    "            print(f\"    - {col:20s}: {f[col].shape}\")"
   ]
  },
  {
   "cell_type": "markdown",
   "metadata": {},
   "source": [
    "## Part 5: Loading Catalog Data\n",
    "\n",
    "Now we'll load the data from each survey catalog. For SDSS, we'll combine all sub-surveys (sdss, boss, eboss, segue1, segue2) into a single catalog."
   ]
  },
  {
   "cell_type": "code",
   "execution_count": null,
   "metadata": {},
   "outputs": [],
   "source": [
    "# Load Gaia catalog (our baseline)\n",
    "print(\"Loading Gaia catalog (our baseline)...\")\n",
    "with h5py.File(gaia_file, 'r') as f:\n",
    "    gaia_ra = f['ra'][:]\n",
    "    gaia_dec = f['dec'][:]\n",
    "    gaia_parallax = f['parallax'][:]\n",
    "    gaia_g_mag = f['phot_g_mean_mag'][:]\n",
    "    print(f\"  ✅ Loaded {len(gaia_ra):,} Gaia sources\")"
   ]
  },
  {
   "cell_type": "code",
   "execution_count": null,
   "metadata": {},
   "outputs": [],
   "source": [
    "# Load SDSS catalog (all sub-surveys)\n",
    "print(\"Loading SDSS catalog (all sub-surveys)...\")\n",
    "sdss_ra_list = []\n",
    "sdss_dec_list = []\n",
    "sdss_z_list = []\n",
    "\n",
    "for subsurvey in sdss_subsurveys:\n",
    "    sdss_file = f\"data/MultimodalUniverse/v1/sdss/{subsurvey}/healpix={healpix}/001-of-001.hdf5\"\n",
    "    if Path(sdss_file).exists():\n",
    "        with h5py.File(sdss_file, 'r') as f:\n",
    "            n_sources = len(f['ra'][:])\n",
    "            print(f\"    - {subsurvey}: {n_sources:,} sources\")\n",
    "            sdss_ra_list.append(f['ra'][:])\n",
    "            sdss_dec_list.append(f['dec'][:])\n",
    "            sdss_z_list.append(f['Z'][:])\n",
    "    else:\n",
    "        print(f\"    - {subsurvey}: no data for this HEALPix\")\n",
    "\n",
    "# Concatenate all sub-surveys\n",
    "if sdss_ra_list:\n",
    "    sdss_ra = np.concatenate(sdss_ra_list)\n",
    "    sdss_dec = np.concatenate(sdss_dec_list)\n",
    "    sdss_z = np.concatenate(sdss_z_list)\n",
    "    print(f\"  ✅ Loaded {len(sdss_ra):,} total SDSS sources (all sub-surveys)\")\n",
    "else:\n",
    "    print(\"  ⚠️  No SDSS data available for this HEALPix\")\n",
    "    sdss_ra = np.array([])\n",
    "    sdss_dec = np.array([])\n",
    "    sdss_z = np.array([])"
   ]
  },
  {
   "cell_type": "code",
   "execution_count": null,
   "metadata": {},
   "outputs": [],
   "source": [
    "# Load Chandra catalog\n",
    "print(\"Loading Chandra catalog...\")\n",
    "with h5py.File(chandra_file, 'r') as f:\n",
    "    chandra_ra = f['ra'][:]\n",
    "    chandra_dec = f['dec'][:]\n",
    "    # Chandra has flux in different energy bands\n",
    "    if 'flux_aper_b' in f.keys():\n",
    "        chandra_flux = f['flux_aper_b'][:]\n",
    "    else:\n",
    "        chandra_flux = np.ones(len(chandra_ra))  # placeholder\n",
    "    print(f\"  ✅ Loaded {len(chandra_ra):,} Chandra sources\")"
   ]
  },
  {
   "cell_type": "markdown",
   "metadata": {},
   "source": [
    "## Part 6: Spatial Cross-Matching\n",
    "\n",
    "**Cross-matching strategy:**\n",
    "1. Use Gaia as baseline (most sources, best astrometry)\n",
    "2. Match SDSS to Gaia (1 arcsec radius)\n",
    "3. Match Chandra to Gaia (2 arcsec radius - X-ray positions less precise)\n",
    "\n",
    "**Matching radius considerations:**\n",
    "- Gaia: ~0.1 mas positional accuracy\n",
    "- SDSS: ~0.1 arcsec positional accuracy\n",
    "- Chandra: ~0.5-1 arcsec positional accuracy"
   ]
  },
  {
   "cell_type": "code",
   "execution_count": null,
   "metadata": {},
   "outputs": [],
   "source": [
    "# Create SkyCoord objects\n",
    "print(\"Creating coordinate objects...\")\n",
    "gaia_coords = SkyCoord(ra=gaia_ra*u.deg, dec=gaia_dec*u.deg)\n",
    "if len(sdss_ra) > 0:\n",
    "    sdss_coords = SkyCoord(ra=sdss_ra*u.deg, dec=sdss_dec*u.deg)\n",
    "chandra_coords = SkyCoord(ra=chandra_ra*u.deg, dec=chandra_dec*u.deg)\n",
    "print(\"  ✅ Coordinate objects created\")"
   ]
  },
  {
   "cell_type": "code",
   "execution_count": null,
   "metadata": {},
   "outputs": [],
   "source": [
    "# Match SDSS to Gaia\n",
    "if len(sdss_ra) > 0:\n",
    "    print(\"[1/2] Matching SDSS to Gaia (1 arcsec radius)...\")\n",
    "    idx_sdss_gaia, sep2d_sdss, _ = sdss_coords.match_to_catalog_sky(gaia_coords)\n",
    "    match_mask_sdss = sep2d_sdss < 1.0 * u.arcsec\n",
    "    n_gaia_sdss = np.sum(match_mask_sdss)\n",
    "    print(f\"  ✅ Found {n_gaia_sdss} Gaia-SDSS matches\")\n",
    "    if n_gaia_sdss > 0:\n",
    "        print(f\"     Median separation: {np.median(sep2d_sdss[match_mask_sdss].arcsec):.3f} arcsec\")\n",
    "else:\n",
    "    print(\"[1/2] Skipping SDSS matching (no SDSS data available)\")\n",
    "    idx_sdss_gaia = np.array([])\n",
    "    sep2d_sdss = np.array([]) * u.arcsec\n",
    "    match_mask_sdss = np.array([], dtype=bool)\n",
    "    n_gaia_sdss = 0"
   ]
  },
  {
   "cell_type": "code",
   "execution_count": null,
   "metadata": {},
   "outputs": [],
   "source": [
    "# Match Chandra to Gaia\n",
    "print(\"[2/2] Matching Chandra to Gaia (2 arcsec radius)...\")\n",
    "idx_chandra_gaia, sep2d_chandra, _ = chandra_coords.match_to_catalog_sky(gaia_coords)\n",
    "match_mask_chandra = sep2d_chandra < 2.0 * u.arcsec\n",
    "n_gaia_chandra = np.sum(match_mask_chandra)\n",
    "print(f\"  ✅ Found {n_gaia_chandra} Gaia-Chandra matches\")\n",
    "print(f\"     Median separation: {np.median(sep2d_chandra[match_mask_chandra].arcsec):.3f} arcsec\")"
   ]
  },
  {
   "cell_type": "markdown",
   "metadata": {},
   "source": [
    "## Part 7: Creating Multi-Wavelength Catalogs\n",
    "\n",
    "We'll create three catalogs:\n",
    "1. **Gaia-SDSS**: Optical + spectroscopy\n",
    "2. **Gaia-Chandra**: Optical + X-ray\n",
    "3. **Gaia-SDSS-Chandra**: Complete multi-wavelength (rarest)"
   ]
  },
  {
   "cell_type": "code",
   "execution_count": null,
   "metadata": {},
   "outputs": [],
   "source": [
    "# Create Gaia-SDSS matches catalog\n",
    "gaia_sdss_matches = []\n",
    "for i, has_match in enumerate(match_mask_sdss):\n",
    "    if has_match:\n",
    "        gaia_idx = idx_sdss_gaia[i]\n",
    "        gaia_sdss_matches.append({\n",
    "            'ra': gaia_ra[gaia_idx],\n",
    "            'dec': gaia_dec[gaia_idx],\n",
    "            'gaia_g_mag': gaia_g_mag[gaia_idx],\n",
    "            'gaia_parallax': gaia_parallax[gaia_idx],\n",
    "            'sdss_z': sdss_z[i],\n",
    "            'separation_arcsec': sep2d_sdss[i].arcsec\n",
    "        })\n",
    "\n",
    "df_gaia_sdss = pd.DataFrame(gaia_sdss_matches)\n",
    "print(f\"✅ Gaia-SDSS catalog: {len(df_gaia_sdss)} sources\")"
   ]
  },
  {
   "cell_type": "code",
   "execution_count": null,
   "metadata": {},
   "outputs": [],
   "source": [
    "# Create Gaia-Chandra matches catalog\n",
    "gaia_chandra_matches = []\n",
    "for i, has_match in enumerate(match_mask_chandra):\n",
    "    if has_match:\n",
    "        gaia_idx = idx_chandra_gaia[i]\n",
    "        gaia_chandra_matches.append({\n",
    "            'ra': gaia_ra[gaia_idx],\n",
    "            'dec': gaia_dec[gaia_idx],\n",
    "            'gaia_g_mag': gaia_g_mag[gaia_idx],\n",
    "            'gaia_parallax': gaia_parallax[gaia_idx],\n",
    "            'chandra_flux': chandra_flux[i],\n",
    "            'separation_arcsec': sep2d_chandra[i].arcsec\n",
    "        })\n",
    "\n",
    "df_gaia_chandra = pd.DataFrame(gaia_chandra_matches)\n",
    "print(f\"✅ Gaia-Chandra catalog: {len(df_gaia_chandra)} sources\")"
   ]
  },
  {
   "cell_type": "code",
   "execution_count": null,
   "metadata": {},
   "outputs": [],
   "source": [
    "# Find triple matches (Gaia-SDSS-Chandra)\n",
    "print(\"Finding triple matches (Gaia + SDSS + Chandra)...\")\n",
    "gaia_sdss_indices = set(idx_sdss_gaia[match_mask_sdss])\n",
    "gaia_chandra_indices = set(idx_chandra_gaia[match_mask_chandra])\n",
    "gaia_triple_indices = gaia_sdss_indices.intersection(gaia_chandra_indices)\n",
    "\n",
    "print(f\"✅ Triple matches: {len(gaia_triple_indices)} sources\")\n",
    "print(f\"   (Optical + Spectroscopy + X-ray)\")"
   ]
  },
  {
   "cell_type": "markdown",
   "metadata": {},
   "source": [
    "## Part 8: Analyzing Cross-Match Results"
   ]
  },
  {
   "cell_type": "code",
   "execution_count": null,
   "metadata": {},
   "outputs": [],
   "source": [
    "# Summary statistics\n",
    "sdss_pct = 100*len(df_gaia_sdss)/len(sdss_ra) if len(sdss_ra) > 0 else 0\n",
    "chandra_pct = 100*len(df_gaia_chandra)/len(chandra_ra) if len(chandra_ra) > 0 else 0\n",
    "\n",
    "print(f\"\"\"\n",
    "Cross-Match Summary:\n",
    "-------------------\n",
    "Base catalog (Gaia):           {len(gaia_ra):,} sources\n",
    "SDSS spectroscopy:             {len(sdss_ra):,} sources\n",
    "Chandra X-ray:                 {len(chandra_ra):,} sources\n",
    "\n",
    "Matches:\n",
    "  Gaia-SDSS:                   {len(df_gaia_sdss):,} ({sdss_pct:.1f}% of SDSS)\n",
    "  Gaia-Chandra:                {len(df_gaia_chandra):,} ({chandra_pct:.1f}% of Chandra)\n",
    "  Gaia-SDSS-Chandra (triple):  {len(gaia_triple_indices):,}\n",
    "\n",
    "Match fractions:\n",
    "  SDSS with Gaia match:        {sdss_pct:.1f}%\n",
    "  Chandra with Gaia match:     {chandra_pct:.1f}%\n",
    "\"\"\")"
   ]
  },
  {
   "cell_type": "markdown",
   "metadata": {},
   "source": [
    "## Part 9: Visualizing Multi-Wavelength Data"
   ]
  },
  {
   "cell_type": "code",
   "execution_count": null,
   "metadata": {},
   "outputs": [],
   "source": [
    "fig, axes = plt.subplots(2, 2, figsize=(14, 12))\n",
    "\n",
    "# Plot 1: Sky positions\n",
    "ax = axes[0, 0]\n",
    "ax.scatter(gaia_ra, gaia_dec, s=0.5, alpha=0.3, label=f'Gaia ({len(gaia_ra):,})', c='gray')\n",
    "if len(sdss_ra) > 0:\n",
    "    ax.scatter(sdss_ra, sdss_dec, s=2, alpha=0.5, label=f'SDSS ({len(sdss_ra):,})', c='blue')\n",
    "ax.scatter(chandra_ra, chandra_dec, s=10, alpha=0.7, label=f'Chandra ({len(chandra_ra):,})', c='red', marker='x')\n",
    "ax.set_xlabel('RA (deg)')\n",
    "ax.set_ylabel('Dec (deg)')\n",
    "ax.set_title(f'Sky Coverage (HEALPix {healpix})')\n",
    "ax.legend()\n",
    "ax.grid(True, alpha=0.3)\n",
    "\n",
    "# Plot 2: Redshift distribution (Gaia-SDSS matches)\n",
    "ax = axes[0, 1]\n",
    "if len(df_gaia_sdss) > 0:\n",
    "    ax.hist(df_gaia_sdss['sdss_z'], bins=30, edgecolor='black', alpha=0.7)\n",
    "    ax.set_xlabel('Redshift')\n",
    "    ax.set_ylabel('Number of Galaxies')\n",
    "    ax.set_title('Redshift Distribution (Gaia-SDSS matches)')\n",
    "else:\n",
    "    ax.text(0.5, 0.5, 'No Gaia-SDSS matches', ha='center', va='center', transform=ax.transAxes)\n",
    "    ax.set_title('Redshift Distribution (Gaia-SDSS matches)')\n",
    "ax.grid(True, alpha=0.3)\n",
    "\n",
    "# Plot 3: Magnitude vs Redshift\n",
    "ax = axes[1, 0]\n",
    "if len(df_gaia_sdss) > 0:\n",
    "    ax.scatter(df_gaia_sdss['sdss_z'], df_gaia_sdss['gaia_g_mag'],\n",
    "              s=5, alpha=0.5, label='Gaia-SDSS')\n",
    "    ax.set_xlabel('Redshift')\n",
    "    ax.set_ylabel('Gaia G magnitude')\n",
    "    ax.set_title('Magnitude vs Redshift')\n",
    "    ax.invert_yaxis()\n",
    "    ax.legend()\n",
    "else:\n",
    "    ax.text(0.5, 0.5, 'No Gaia-SDSS matches', ha='center', va='center', transform=ax.transAxes)\n",
    "    ax.set_title('Magnitude vs Redshift')\n",
    "ax.grid(True, alpha=0.3)\n",
    "\n",
    "# Plot 4: Match separation distributions\n",
    "ax = axes[1, 1]\n",
    "if len(df_gaia_sdss) > 0:\n",
    "    ax.hist(df_gaia_sdss['separation_arcsec'], bins=30, alpha=0.6,\n",
    "           label=f'Gaia-SDSS (median={np.median(df_gaia_sdss[\"separation_arcsec\"]):.3f}\")',\n",
    "           edgecolor='black')\n",
    "if len(df_gaia_chandra) > 0:\n",
    "    ax.hist(df_gaia_chandra['separation_arcsec'], bins=30, alpha=0.6,\n",
    "           label=f'Gaia-Chandra (median={np.median(df_gaia_chandra[\"separation_arcsec\"]):.3f}\")',\n",
    "           edgecolor='black')\n",
    "ax.set_xlabel('Separation (arcsec)')\n",
    "ax.set_ylabel('Number of Matches')\n",
    "ax.set_title('Cross-Match Separation Distribution')\n",
    "ax.legend()\n",
    "ax.grid(True, alpha=0.3)\n",
    "\n",
    "plt.tight_layout()\n",
    "plt.savefig('tutorial04_crossmatch_analysis.png', dpi=150, bbox_inches='tight')\n",
    "print(\"✅ Saved visualization to tutorial04_crossmatch_analysis.png\")\n",
    "plt.show()"
   ]
  },
  {
   "cell_type": "markdown",
   "metadata": {},
   "source": [
    "## Part 10: Saving Cross-Matched Catalogs"
   ]
  },
  {
   "cell_type": "code",
   "execution_count": null,
   "metadata": {},
   "outputs": [],
   "source": [
    "# Save catalogs\n",
    "df_gaia_sdss.to_csv('tutorial04_gaia_sdss_matches.csv', index=False)\n",
    "print(f\"✅ Saved Gaia-SDSS catalog: tutorial04_gaia_sdss_matches.csv\")\n",
    "\n",
    "df_gaia_chandra.to_csv('tutorial04_gaia_chandra_matches.csv', index=False)\n",
    "print(f\"✅ Saved Gaia-Chandra catalog: tutorial04_gaia_chandra_matches.csv\")"
   ]
  },
  {
   "cell_type": "markdown",
   "metadata": {},
   "source": [
    "## Summary and Next Steps\n",
    "\n",
    "### What we learned:\n",
    "1. HEALPix spatial indexing for astronomical surveys\n",
    "2. Downloading HEALPix-partitioned data efficiently\n",
    "3. Reading HDF5 files with h5py\n",
    "4. Spatial cross-matching with astropy SkyCoord\n",
    "5. Creating multi-wavelength catalogs\n",
    "\n",
    "### Generated Files:\n",
    "- `tutorial04_crossmatch_analysis.png`: Visualizations\n",
    "- `tutorial04_gaia_sdss_matches.csv`: Optical + spectroscopy catalog\n",
    "- `tutorial04_gaia_chandra_matches.csv`: Optical + X-ray catalog\n",
    "\n",
    "### Next Steps:\n",
    "1. Analyze redshift distribution of matched galaxies\n",
    "2. Study X-ray to optical flux ratios\n",
    "3. Identify AGN candidates (X-ray bright sources)\n",
    "4. Cross-match with additional surveys (WISE, 2MASS, etc.)\n",
    "5. Use matched catalogs for science analysis\n",
    "\n",
    "### Scientific Applications:\n",
    "- AGN identification and classification\n",
    "- Galaxy evolution across cosmic time\n",
    "- Multi-wavelength SEDs\n",
    "- Stellar population studies\n",
    "- Variable and transient source identification"
   ]
  }
 ],
 "metadata": {
  "kernelspec": {
   "display_name": "Python 3",
   "language": "python",
   "name": "python3"
  },
  "language_info": {
   "codemirror_mode": {
    "name": "ipython",
    "version": 3
   },
   "file_extension": ".py",
   "mimetype": "text/x-python",
   "name": "python",
   "nbconvert_exporter": "python",
   "pygments_lexer": "ipython3",
   "version": "3.11.0"
  }
 },
 "nbformat": 4,
 "nbformat_minor": 4
}
