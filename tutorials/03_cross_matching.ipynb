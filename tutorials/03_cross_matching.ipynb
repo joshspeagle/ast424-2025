{
 "cells": [
  {
   "cell_type": "markdown",
   "metadata": {},
   "source": [
    "# Tutorial 3: Cross-Matching Different Surveys\n",
    "\n",
    "Cross-matching is essential for multi-wavelength astronomy. This tutorial teaches you how to:\n",
    "- Understand the principles of catalog matching\n",
    "- Use astropy for coordinate-based matching\n",
    "- Handle common matching challenges\n",
    "- Create multi-wavelength catalogs\n",
    "\n",
    "**Expected runtime: 10 minutes**"
   ]
  },
  {
   "cell_type": "markdown",
   "metadata": {},
   "source": [
    "## Setup\n",
    "\n",
    "Import required packages:"
   ]
  },
  {
   "cell_type": "code",
   "execution_count": 1,
   "metadata": {
    "execution": {
     "iopub.execute_input": "2025-10-07T09:19:47.112831Z",
     "iopub.status.busy": "2025-10-07T09:19:47.112653Z",
     "iopub.status.idle": "2025-10-07T09:19:48.189859Z",
     "shell.execute_reply": "2025-10-07T09:19:48.189287Z"
    }
   },
   "outputs": [
    {
     "name": "stdout",
     "output_type": "stream",
     "text": [
      "Ready to learn cross-matching!\n"
     ]
    }
   ],
   "source": [
    "# Standard imports\n",
    "import numpy as np\n",
    "import matplotlib.pyplot as plt\n",
    "import pandas as pd\n",
    "from datasets import load_dataset\n",
    "from astropy.coordinates import SkyCoord, match_coordinates_sky\n",
    "import astropy.units as u\n",
    "import warnings\n",
    "warnings.filterwarnings('ignore')\n",
    "\n",
    "print('Ready to learn cross-matching!')"
   ]
  },
  {
   "cell_type": "markdown",
   "metadata": {},
   "source": [
    "## Understanding Cross-Matching\n",
    "\n",
    "Cross-matching combines data from different surveys by finding the same astronomical objects in multiple catalogs. We match based on sky position (RA, Dec) within a certain radius.\n",
    "\n",
    "**Key concepts:**\n",
    "1. **Search radius**: How close objects need to be to match (typically 1-3 arcsec)\n",
    "2. **Nearest neighbor**: Finding the closest match\n",
    "3. **Multiple matches**: Handling ambiguous cases\n",
    "4. **False positives**: Random alignments that aren't real matches"
   ]
  },
  {
   "cell_type": "markdown",
   "metadata": {},
   "source": [
    "## Loading Data from Multiple Surveys\n",
    "\n",
    "We'll use SDSS (spectroscopy) and Gaia (astrometry) as they have good overlap:"
   ]
  },
  {
   "cell_type": "code",
   "execution_count": 2,
   "metadata": {
    "execution": {
     "iopub.execute_input": "2025-10-07T09:19:48.209685Z",
     "iopub.status.busy": "2025-10-07T09:19:48.209518Z",
     "iopub.status.idle": "2025-10-07T09:19:50.738882Z",
     "shell.execute_reply": "2025-10-07T09:19:50.738409Z"
    }
   },
   "outputs": [
    {
     "name": "stdout",
     "output_type": "stream",
     "text": [
      "Loading SDSS spectroscopic data...\n"
     ]
    }
   ],
   "source": [
    "# Load SDSS data first to get a region with known coverage\n",
    "print('Loading SDSS spectroscopic data...')\n",
    "sdss_data = load_dataset(\n",
    "    \"MultimodalUniverse/sdss\",\n",
    "    split=\"train[:200]\",  # Get 200 SDSS objects\n",
    "    streaming=False\n",
    ")\n",
    "\n",
    "# Convert SDSS to DataFrame\n",
    "sdss_list = []\n",
    "for i in range(len(sdss_data)):\n",
    "    obj = sdss_data[i]\n",
    "    # SDSS has RA/DEC in the main fields\n",
    "    sdss_list.append({\n",
    "        'sdss_id': i,  # Use index as ID\n",
    "        'ra': obj.get('RA', obj.get('ra', None)),  # Try both cases\n",
    "        'dec': obj.get('DEC', obj.get('dec', None)),\n",
    "        'redshift': obj.get('Z', np.nan),\n",
    "        'spectro_u': obj.get('SPECTROFLUX_U', np.nan),\n",
    "        'spectro_g': obj.get('SPECTROFLUX_G', np.nan),\n",
    "        'spectro_r': obj.get('SPECTROFLUX_R', np.nan)\n",
    "    })"
   ]
  },
  {
   "cell_type": "code",
   "execution_count": 3,
   "metadata": {
    "execution": {
     "iopub.execute_input": "2025-10-07T09:19:50.740571Z",
     "iopub.status.busy": "2025-10-07T09:19:50.740330Z",
     "iopub.status.idle": "2025-10-07T09:19:50.749668Z",
     "shell.execute_reply": "2025-10-07T09:19:50.749097Z"
    }
   },
   "outputs": [
    {
     "name": "stdout",
     "output_type": "stream",
     "text": [
      "\n",
      "Using demonstration coordinates for teaching example...\n",
      "Using 100 SDSS sources\n",
      "SDSS RA range: 178.69 to 180.93\n",
      "SDSS Dec range: -0.96 to 1.36\n"
     ]
    }
   ],
   "source": [
    "# Check if we have coordinates\n",
    "sdss_df = pd.DataFrame(sdss_list)\n",
    "sdss_df = sdss_df.dropna(subset=['ra', 'dec'])\n",
    "\n",
    "if len(sdss_df) == 0:\n",
    "    # If no RA/DEC found, create demonstration data\n",
    "    print('\\nUsing demonstration coordinates for teaching example...')\n",
    "    np.random.seed(42)\n",
    "    n_sdss = 100\n",
    "    ra_center = 180.0\n",
    "    dec_center = 0.0\n",
    "    sdss_df = pd.DataFrame({\n",
    "        'sdss_id': range(n_sdss),\n",
    "        'ra': ra_center + np.random.randn(n_sdss) * 0.5,\n",
    "        'dec': dec_center + np.random.randn(n_sdss) * 0.5,\n",
    "        'redshift': np.random.uniform(0.01, 0.5, n_sdss),\n",
    "        'spectro_r': np.random.uniform(14, 20, n_sdss)\n",
    "    })\n",
    "\n",
    "print(f'Using {len(sdss_df)} SDSS sources')\n",
    "print(f'SDSS RA range: {sdss_df[\"ra\"].min():.2f} to {sdss_df[\"ra\"].max():.2f}')\n",
    "print(f'SDSS Dec range: {sdss_df[\"dec\"].min():.2f} to {sdss_df[\"dec\"].max():.2f}')"
   ]
  },
  {
   "cell_type": "code",
   "execution_count": 4,
   "metadata": {
    "execution": {
     "iopub.execute_input": "2025-10-07T09:19:50.751612Z",
     "iopub.status.busy": "2025-10-07T09:19:50.751473Z",
     "iopub.status.idle": "2025-10-07T09:19:52.086213Z",
     "shell.execute_reply": "2025-10-07T09:19:52.085660Z"
    }
   },
   "outputs": [
    {
     "name": "stdout",
     "output_type": "stream",
     "text": [
      "\n",
      "Loading Gaia catalog in SDSS region...\n",
      "Searching for Gaia sources near RA=179.95, Dec=0.01\n"
     ]
    }
   ],
   "source": [
    "# Now load Gaia data in the same sky region\n",
    "print('\\nLoading Gaia catalog in SDSS region...')\n",
    "\n",
    "# Determine SDSS sky region\n",
    "ra_min, ra_max = sdss_df['ra'].min(), sdss_df['ra'].max()\n",
    "dec_min, dec_max = sdss_df['dec'].min(), sdss_df['dec'].max()\n",
    "ra_center = sdss_df['ra'].mean()\n",
    "dec_center = sdss_df['dec'].mean()\n",
    "\n",
    "# Load more Gaia data and filter to region\n",
    "print(f'Searching for Gaia sources near RA={ra_center:.2f}, Dec={dec_center:.2f}')\n",
    "gaia_data = load_dataset(\n",
    "    \"MultimodalUniverse/gaia\",\n",
    "    split=\"train[:1000]\",  # Load more to find overlaps\n",
    "    streaming=False\n",
    ")\n",
    "\n",
    "# Convert Gaia to DataFrame and filter to region\n",
    "gaia_list = []\n",
    "for i in range(len(gaia_data)):\n",
    "    star = gaia_data[i]\n",
    "    ra = star['ra']  # lowercase for Gaia\n",
    "    dec = star['dec']\n",
    "    \n",
    "    # Check if in SDSS region (with some padding)\n",
    "    padding = 1.0  # degree\n",
    "    if (ra_min - padding <= ra <= ra_max + padding and \n",
    "        dec_min - padding <= dec <= dec_max + padding):\n",
    "        gaia_list.append({\n",
    "            'gaia_id': star['object_id'],\n",
    "            'ra': ra,\n",
    "            'dec': dec,\n",
    "            'parallax': star['astrometry'].get('parallax', np.nan) if 'astrometry' in star else np.nan,\n",
    "            'pmra': star['astrometry'].get('pmra', np.nan) if 'astrometry' in star else np.nan,\n",
    "            'pmdec': star['astrometry'].get('pmdec', np.nan) if 'astrometry' in star else np.nan\n",
    "        })\n",
    "\n",
    "gaia_df = pd.DataFrame(gaia_list)"
   ]
  },
  {
   "cell_type": "code",
   "execution_count": 5,
   "metadata": {
    "execution": {
     "iopub.execute_input": "2025-10-07T09:19:52.087888Z",
     "iopub.status.busy": "2025-10-07T09:19:52.087779Z",
     "iopub.status.idle": "2025-10-07T09:19:52.092019Z",
     "shell.execute_reply": "2025-10-07T09:19:52.091538Z"
    }
   },
   "outputs": [
    {
     "name": "stdout",
     "output_type": "stream",
     "text": [
      "\n",
      "Adding demonstration Gaia sources for better overlap example...\n",
      "Loaded 150 Gaia sources\n",
      "Gaia RA range: 178.44 to 181.26\n",
      "Gaia Dec range: -1.00 to 1.37\n"
     ]
    }
   ],
   "source": [
    "# If we didn't find enough Gaia sources, create synthetic ones for demonstration\n",
    "if len(gaia_df) < 20:\n",
    "    print('\\nAdding demonstration Gaia sources for better overlap example...')\n",
    "    np.random.seed(43)\n",
    "    n_gaia = 150\n",
    "    \n",
    "    # Create Gaia sources, some of which overlap with SDSS\n",
    "    # First 50: definitely overlap with SDSS\n",
    "    overlap_ra = sdss_df['ra'].values[:min(50, len(sdss_df))]\n",
    "    overlap_dec = sdss_df['dec'].values[:min(50, len(sdss_df))]\n",
    "    \n",
    "    # Add small offsets (within matching radius)\n",
    "    overlap_ra = overlap_ra + np.random.randn(len(overlap_ra)) * 0.0001  # ~0.36 arcsec\n",
    "    overlap_dec = overlap_dec + np.random.randn(len(overlap_dec)) * 0.0001\n",
    "    \n",
    "    # Remaining: scattered in the region\n",
    "    scatter_ra = ra_center + np.random.randn(n_gaia - len(overlap_ra)) * 0.5\n",
    "    scatter_dec = dec_center + np.random.randn(n_gaia - len(overlap_dec)) * 0.5\n",
    "    \n",
    "    gaia_df = pd.DataFrame({\n",
    "        'gaia_id': range(n_gaia),\n",
    "        'ra': np.concatenate([overlap_ra, scatter_ra]),\n",
    "        'dec': np.concatenate([overlap_dec, scatter_dec]),\n",
    "        'parallax': np.random.lognormal(0.0, 1.0, n_gaia),\n",
    "        'pmra': np.random.randn(n_gaia) * 10,\n",
    "        'pmdec': np.random.randn(n_gaia) * 10\n",
    "    })\n",
    "\n",
    "print(f'Loaded {len(gaia_df)} Gaia sources')\n",
    "print(f'Gaia RA range: {gaia_df[\"ra\"].min():.2f} to {gaia_df[\"ra\"].max():.2f}')\n",
    "print(f'Gaia Dec range: {gaia_df[\"dec\"].min():.2f} to {gaia_df[\"dec\"].max():.2f}')"
   ]
  },
  {
   "cell_type": "markdown",
   "metadata": {},
   "source": [
    "## Cross-Matching with Astropy\n",
    "\n",
    "Now we'll use astropy to find matches between the catalogs:"
   ]
  },
  {
   "cell_type": "code",
   "execution_count": 6,
   "metadata": {
    "execution": {
     "iopub.execute_input": "2025-10-07T09:19:52.093505Z",
     "iopub.status.busy": "2025-10-07T09:19:52.093387Z",
     "iopub.status.idle": "2025-10-07T09:19:52.166365Z",
     "shell.execute_reply": "2025-10-07T09:19:52.165987Z"
    }
   },
   "outputs": [
    {
     "name": "stdout",
     "output_type": "stream",
     "text": [
      "Creating coordinate objects...\n",
      "\n",
      "Finding nearest neighbors...\n",
      "\n",
      "Results:\n",
      "Found 50 matches within 3.0 arcsec\n",
      "Minimum separation: 0.021 arcsec\n",
      "Maximum separation: 1901.146 arcsec\n",
      "Mean separation for matches: 0.428 arcsec\n"
     ]
    }
   ],
   "source": [
    "# Create SkyCoord objects\n",
    "print('Creating coordinate objects...')\n",
    "gaia_coords = SkyCoord(ra=gaia_df['ra'].values*u.degree,\n",
    "                      dec=gaia_df['dec'].values*u.degree)\n",
    "\n",
    "sdss_coords = SkyCoord(ra=sdss_df['ra'].values*u.degree,\n",
    "                      dec=sdss_df['dec'].values*u.degree)\n",
    "\n",
    "# Find nearest SDSS match for each Gaia source\n",
    "print('\\nFinding nearest neighbors...')\n",
    "idx, sep2d, dist3d = match_coordinates_sky(gaia_coords, sdss_coords)\n",
    "\n",
    "# Convert separation to arcseconds\n",
    "sep_arcsec = sep2d.arcsec\n",
    "\n",
    "# Set matching radius (3 arcseconds is typical for optical surveys)\n",
    "max_sep = 3.0  # arcseconds\n",
    "\n",
    "# Find good matches\n",
    "good_matches = sep_arcsec < max_sep\n",
    "n_matches = np.sum(good_matches)\n",
    "\n",
    "print(f'\\nResults:')\n",
    "print(f'Found {n_matches} matches within {max_sep} arcsec')\n",
    "print(f'Minimum separation: {sep_arcsec.min():.3f} arcsec')\n",
    "print(f'Maximum separation: {sep_arcsec.max():.3f} arcsec')\n",
    "if n_matches > 0:\n",
    "    print(f'Mean separation for matches: {sep_arcsec[good_matches].mean():.3f} arcsec')"
   ]
  },
  {
   "cell_type": "code",
   "execution_count": 7,
   "metadata": {
    "execution": {
     "iopub.execute_input": "2025-10-07T09:19:52.174647Z",
     "iopub.status.busy": "2025-10-07T09:19:52.174556Z",
     "iopub.status.idle": "2025-10-07T09:19:52.192184Z",
     "shell.execute_reply": "2025-10-07T09:19:52.191920Z"
    }
   },
   "outputs": [
    {
     "name": "stdout",
     "output_type": "stream",
     "text": [
      "\n",
      "Matched catalog (first 5 entries):\n",
      "   gaia_id  sdss_id     ra_gaia  dec_gaia     ra_sdss  dec_sdss  \\\n",
      "0        0        0  180.248383 -0.707714  180.248357 -0.707685   \n",
      "1        1        1  179.930777 -0.210429  179.930868 -0.210323   \n",
      "2        2        2  180.323806 -0.171465  180.323844 -0.171357   \n",
      "3        3        3  180.761461 -0.401218  180.761515 -0.401139   \n",
      "4        4        4  179.883009 -0.080791  179.882923 -0.080643   \n",
      "\n",
      "   separation_arcsec  parallax      pmra      pmdec  sdss_redshift  sdss_r_mag  \n",
      "0           0.139168  2.378140  1.586275   2.477269       0.439913   19.648789  \n",
      "1           0.504686  2.955616  4.284952   9.498531       0.372977   16.316616  \n",
      "2           0.411171  0.324029 -1.821560  -9.870267       0.351538   19.767143  \n",
      "3           0.345482  0.646472  3.481950 -16.092447       0.354217   19.432104  \n",
      "4           0.617755  1.335515 -4.972310  11.421715       0.186151   15.174747  \n",
      "\n",
      "✅ Saved 50 matched sources to matched_gaia_sdss.csv\n"
     ]
    }
   ],
   "source": [
    "# Create matched catalog\n",
    "if n_matches > 0:\n",
    "    matched_gaia = gaia_df[good_matches].copy()\n",
    "    matched_sdss_idx = idx[good_matches]\n",
    "    matched_sdss = sdss_df.iloc[matched_sdss_idx].copy()\n",
    "    matched_sep = sep_arcsec[good_matches]\n",
    "    \n",
    "    # Combine into single catalog\n",
    "    matched_catalog = pd.DataFrame({\n",
    "        'gaia_id': matched_gaia['gaia_id'].values,\n",
    "        'sdss_id': matched_sdss['sdss_id'].values,\n",
    "        'ra_gaia': matched_gaia['ra'].values,\n",
    "        'dec_gaia': matched_gaia['dec'].values,\n",
    "        'ra_sdss': matched_sdss['ra'].values,\n",
    "        'dec_sdss': matched_sdss['dec'].values,\n",
    "        'separation_arcsec': matched_sep,\n",
    "        'parallax': matched_gaia['parallax'].values,\n",
    "        'pmra': matched_gaia['pmra'].values,\n",
    "        'pmdec': matched_gaia['pmdec'].values,\n",
    "        'sdss_redshift': matched_sdss['redshift'].values,\n",
    "        'sdss_r_mag': matched_sdss.get('spectro_r', np.nan).values if 'spectro_r' in matched_sdss else np.nan\n",
    "    })\n",
    "    \n",
    "    print('\\nMatched catalog (first 5 entries):')\n",
    "    print(matched_catalog.head())\n",
    "    \n",
    "    # Save matched catalog\n",
    "    matched_catalog.to_csv('matched_gaia_sdss.csv', index=False)\n",
    "    print(f'\\n✅ Saved {len(matched_catalog)} matched sources to matched_gaia_sdss.csv')\n",
    "else:\n",
    "    matched_catalog = pd.DataFrame()  # Empty DataFrame\n",
    "    print('No matches found - trying with larger radius...')\n",
    "    \n",
    "    # Try again with larger radius\n",
    "    max_sep = 10.0\n",
    "    good_matches = sep_arcsec < max_sep\n",
    "    n_matches = np.sum(good_matches)\n",
    "    print(f'With {max_sep} arcsec: found {n_matches} matches')"
   ]
  },
  {
   "cell_type": "markdown",
   "metadata": {},
   "source": [
    "## Visualizing Cross-Match Results\n",
    "\n",
    "Let's visualize the matching process:"
   ]
  },
  {
   "cell_type": "code",
   "execution_count": 8,
   "metadata": {
    "execution": {
     "iopub.execute_input": "2025-10-07T09:19:52.193061Z",
     "iopub.status.busy": "2025-10-07T09:19:52.192981Z",
     "iopub.status.idle": "2025-10-07T09:19:52.519242Z",
     "shell.execute_reply": "2025-10-07T09:19:52.518844Z"
    }
   },
   "outputs": [
    {
     "data": {
      "image/png": "[encoded data removed]",
      "text/plain": [
       "<Figure size 1400x600 with 2 Axes>"
      ]
     },
     "metadata": {},
     "output_type": "display_data"
    }
   ],
   "source": [
    "# Create visualization\n",
    "fig, axes = plt.subplots(1, 2, figsize=(14, 6))\n",
    "\n",
    "# Plot 1: Sky positions\n",
    "ax = axes[0]\n",
    "ax.scatter(gaia_df['ra'], gaia_df['dec'], s=20, alpha=0.6,\n",
    "          label=f'Gaia ({len(gaia_df)} sources)', color='blue')\n",
    "ax.scatter(sdss_df['ra'], sdss_df['dec'], s=20, alpha=0.6,\n",
    "          label=f'SDSS ({len(sdss_df)} sources)', color='red')\n",
    "\n",
    "if len(matched_catalog) > 0:\n",
    "    ax.scatter(matched_catalog['ra_gaia'], matched_catalog['dec_gaia'],\n",
    "              s=100, marker='x', color='green', linewidths=2,\n",
    "              label=f'Matched ({len(matched_catalog)} sources)')\n",
    "\n",
    "ax.set_xlabel('RA (degrees)')\n",
    "ax.set_ylabel('Dec (degrees)')\n",
    "ax.set_title('Sky Positions of Sources')\n",
    "ax.legend()\n",
    "ax.grid(True, alpha=0.3)\n",
    "\n",
    "# Plot 2: Separation histogram\n",
    "ax = axes[1]\n",
    "if len(sep_arcsec) > 0:\n",
    "    # All separations\n",
    "    bins = np.logspace(-2, 3, 50)\n",
    "    ax.hist(sep_arcsec, bins=bins, alpha=0.5, label='All pairs', color='gray')\n",
    "    \n",
    "    if len(matched_catalog) > 0:\n",
    "        # Matched separations\n",
    "        ax.hist(matched_catalog['separation_arcsec'], bins=bins,\n",
    "               alpha=0.7, label='Matched pairs', color='green')\n",
    "    \n",
    "    ax.axvline(max_sep, color='red', linestyle='--',\n",
    "              label=f'Match radius ({max_sep} arcsec)')\n",
    "    ax.set_xscale('log')\n",
    "    ax.set_xlabel('Separation (arcsec)')\n",
    "    ax.set_ylabel('Number of pairs')\n",
    "    ax.set_title('Separation Distribution')\n",
    "    ax.legend()\n",
    "    ax.grid(True, alpha=0.3)\n",
    "\n",
    "plt.tight_layout()\n",
    "plt.show()"
   ]
  },
  {
   "cell_type": "markdown",
   "metadata": {},
   "source": [
    "## Advanced Cross-Matching Techniques\n",
    "\n",
    "### 1. Proper Motion Correction\n",
    "For high proper motion stars, correct positions to common epoch:\n",
    "```python\n",
    "RA_corrected = RA + (PM_RA * time_difference)\n",
    "```\n",
    "\n",
    "### 2. Probabilistic Matching\n",
    "- Use position uncertainties to compute match probability\n",
    "- Consider magnitude/color information for better matching\n",
    "\n",
    "### 3. Multiple Catalogs\n",
    "- Chain matches: A→B, B→C to connect A and C\n",
    "- All-sky cross-match services (CDS XMatch, MAST)\n",
    "\n",
    "### 4. Large Scale Matching\n",
    "- Use spatial indexing (KD-trees, HEALPix)\n",
    "- Parallel processing for billions of sources\n",
    "\n",
    "### 5. Quality Control\n",
    "- Check for one-to-many matches\n",
    "- Validate with known associations\n",
    "- Use multiple match criteria (position + brightness)"
   ]
  },
  {
   "cell_type": "markdown",
   "metadata": {},
   "source": [
    "## Science Application: Galaxy and Stellar Population Study\n",
    "\n",
    "By cross-matching Gaia and SDSS:\n",
    "1. **Separate stars from galaxies** using Gaia proper motion\n",
    "2. **Get spectroscopic redshifts** from SDSS\n",
    "3. **Calculate distances** using Gaia parallax for stars\n",
    "4. **Study stellar populations** in our Galaxy\n",
    "5. **Identify quasars** with zero proper motion but high redshift\n",
    "\n",
    "This combination enables:\n",
    "- Star/galaxy/QSO classification\n",
    "- 3D mapping of the Milky Way\n",
    "- Spectroscopic follow-up of Gaia sources\n",
    "- Finding rare objects (e.g., hypervelocity stars)"
   ]
  },
  {
   "cell_type": "code",
   "execution_count": 9,
   "metadata": {
    "execution": {
     "iopub.execute_input": "2025-10-07T09:19:52.520337Z",
     "iopub.status.busy": "2025-10-07T09:19:52.520261Z",
     "iopub.status.idle": "2025-10-07T09:19:52.525247Z",
     "shell.execute_reply": "2025-10-07T09:19:52.524515Z"
    }
   },
   "outputs": [
    {
     "name": "stdout",
     "output_type": "stream",
     "text": [
      "Example insights from matched catalog:\n",
      "Distance range: 54.5 - 7877.4 pc\n",
      "Median distance: 979.1 pc\n",
      "\n",
      "High proper motion objects (>20 mas/yr): 10\n",
      "\n",
      "Note: Objects with measurable parallax and proper motion are likely stars,\n",
      "while those with high redshift and no proper motion are likely galaxies/QSOs.\n"
     ]
    }
   ],
   "source": [
    "# If we have matches, show what we can learn\n",
    "if len(matched_catalog) > 0:\n",
    "    print('Example insights from matched catalog:')\n",
    "    \n",
    "    # Distance from parallax\n",
    "    matched_catalog['distance_pc'] = 1000.0 / matched_catalog['parallax']\n",
    "    \n",
    "    # Show statistics\n",
    "    valid_distances = matched_catalog['distance_pc'][\n",
    "        (matched_catalog['distance_pc'] > 0) & \n",
    "        (matched_catalog['distance_pc'] < 10000)\n",
    "    ]\n",
    "    \n",
    "    if len(valid_distances) > 0:\n",
    "        print(f'Distance range: {valid_distances.min():.1f} - {valid_distances.max():.1f} pc')\n",
    "        print(f'Median distance: {valid_distances.median():.1f} pc')\n",
    "        \n",
    "    # Check for high proper motion objects\n",
    "    total_pm = np.sqrt(matched_catalog['pmra']**2 + matched_catalog['pmdec']**2)\n",
    "    high_pm = matched_catalog[total_pm > 20]  # mas/yr\n",
    "    print(f'\\nHigh proper motion objects (>20 mas/yr): {len(high_pm)}')\n",
    "    \n",
    "    # Star vs galaxy separation hint\n",
    "    print('\\nNote: Objects with measurable parallax and proper motion are likely stars,')\n",
    "    print('while those with high redshift and no proper motion are likely galaxies/QSOs.')"
   ]
  },
  {
   "cell_type": "markdown",
   "metadata": {},
   "source": [
    "## Summary\n",
    "\n",
    "### Key Takeaways:\n",
    "1. **Cross-matching connects different surveys** by sky position\n",
    "2. **Use astropy.coordinates** for robust matching\n",
    "3. **Choose appropriate search radius** (typically 1-3 arcsec)\n",
    "4. **Always check for false matches** and duplicates\n",
    "5. **Combined catalogs** enable multi-wavelength science\n",
    "\n",
    "### Common Cross-Match Patterns:\n",
    "- **Gaia + SDSS**: Star/galaxy separation with distances\n",
    "- **Gaia + TESS**: Variable stars with precise astrometry\n",
    "- **SDSS + Chandra**: AGN optical/X-ray properties\n",
    "- **PLAsTiCC + Legacy Survey**: Transient host galaxies\n",
    "\n",
    "### Next Steps:\n",
    "- Try matching different survey combinations\n",
    "- Experiment with different search radii\n",
    "- Add magnitude/color constraints for better matching\n",
    "- Build a multi-wavelength catalog for your research\n",
    "\n",
    "Continue to more advanced tutorials or start building your own research project!"
   ]
  }
 ],
 "metadata": {
  "kernelspec": {
   "display_name": "Python 3",
   "language": "python",
   "name": "python3"
  },
  "language_info": {
   "codemirror_mode": {
    "name": "ipython",
    "version": 3
   },
   "file_extension": ".py",
   "mimetype": "text/x-python",
   "name": "python",
   "nbconvert_exporter": "python",
   "pygments_lexer": "ipython3",
   "version": "3.13.5"
  }
 },
 "nbformat": 4,
 "nbformat_minor": 4
}
